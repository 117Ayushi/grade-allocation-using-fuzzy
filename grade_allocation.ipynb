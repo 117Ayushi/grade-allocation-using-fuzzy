{
 "cells": [
  {
   "cell_type": "code",
   "execution_count": null,
   "metadata": {},
   "outputs": [],
   "source": [
    "def get_grade(x,max_grade_f,max_grade_e,max_grade_d_minus,max_grade_d,max_grade_c_minus,max_grade_c,max_grade_b_minus,max_grade_b,max_grade_a_minus,max_grade_a):\n",
    "    if(x<max_grade_f):\n",
    "        return 'F'\n",
    "    elif(x<max_grade_e and x>=max_grade_f):\n",
    "        return 'E'\n",
    "    elif(x<max_grade_d_minus and x>=max_grade_e):\n",
    "        return 'D-'\n",
    "    elif(x<max_grade_d and x>=max_grade_d_minus):\n",
    "        return 'D'\n",
    "    elif(x<max_grade_c_minus and x>=max_grade_d):\n",
    "        return 'C-'\n",
    "    elif(x<max_grade_c and x>=max_grade_c_minus):\n",
    "        return 'C'\n",
    "    elif(x<max_grade_b_minus and x>=max_grade_c):\n",
    "        return 'B-'\n",
    "    elif(x<max_grade_b and x>=max_grade_b_minus):\n",
    "        return 'B'\n",
    "    elif(x<max_grade_a_minus and x>=max_grade_b):\n",
    "        return 'A-'\n",
    "    elif(x<max_grade_a and x>=max_grade_a_minus):\n",
    "        return 'A'\n",
    "    else:\n",
    "        return 'OutOfBound'\n",
    "    "
   ]
  },
  {
   "cell_type": "code",
   "execution_count": null,
   "metadata": {},
   "outputs": [],
   "source": [
    "import pandas as pd\n",
    "from fcmeans import FCM\n",
    "df = pd.read_excel(\"data.xlsx\", 0)\n"
   ]
  },
  {
   "cell_type": "code",
   "execution_count": null,
   "metadata": {},
   "outputs": [],
   "source": [
    "print(\"Make your selection of allocating the grade\")\n",
    "print(\"Enter 1 for default calculation\")\n",
    "print(\"Enter 2 for manual calculation\")\n",
    "print(\"Enter 3 for fuzzy calculation\")\n",
    "print(\"Enter 4 for manual change\")\n",
    "\n",
    "calculation_type = input(\"Enter your chioice: \")\n",
    "\n",
    "if(calculation_type == '1'):\n",
    "    df['EXPECTED GRADES'] = df['Total150'].apply(lambda x:get_grade(x,30,45,60,67,75,90,105,120,135,150))\n",
    "    \n",
    "elif(calculation_type == '2'):\n",
    "    max_grade_f = int(input(\"Enter the Max value for grade F: \"))\n",
    "    max_grade_e = int(input(\"Enter the Max value for grade E: \"))\n",
    "    max_grade_d_minus = int(input(\"Enter the Max value for grade D minus: \"))\n",
    "    max_grade_d = int(input(\"Enter the Max value for grade D: \"))\n",
    "    max_grade_c_minus = int(input(\"Enter the Max value for grade C minus: \"))\n",
    "    max_grade_c = int(input(\"Enter the Max value for grade C: \"))\n",
    "    max_grade_b_minus = int(input(\"Enter the Max value for grade B minus: \"))\n",
    "    max_grade_b = int(input(\"Enter the Max value for grade B: \"))\n",
    "    max_grade_a_minus = int(input(\"Enter the Max value for grade A minus: \"))\n",
    "    max_grade_a = int(input(\"Enter the Max value for grade A: \"))\n",
    "    df['EXPECTED GRADES'] = df['Total150'].apply(lambda x:get_grade(x,max_grade_f,max_grade_e,max_grade_d_minus,max_grade_d,max_grade_c_minus,max_grade_c,max_grade_b_minus,max_grade_b,max_grade_a_minus,max_grade_a))\n",
    "\n",
    "elif(calculation_type == '3'):\n",
    "    data2 = df[['Total150', 'Total150']]\n",
    "    fcm = FCM(n_clusters=10)\n",
    "    fcm.fit(data2)\n",
    "    fcm_centers = fcm.centers\n",
    "    predicted_membership = fcm.predict(data2)\n",
    "    df['EXPECTED GRADES'] = predicted_membership\n",
    "    fcm_centers.columns = [\"Total150\",\"feature\"]\n",
    "    fcm_centers[\"Cluster_id\"] = [0,1,2,3,4,5,6,7,8,9]\n",
    "    fcm_centers = fcm_centers.sort_values(by=\"Total150\",ascending=[0])\n",
    "    fcm_centers[\"Grade\"] = [\"A\",\"A-\",\"B\",\"B-\",\"C\",\"C-\",\"D\",\"D-\",\"E\",\"F\"]\n",
    "    grade_dict = dict(zip(fcm_centers.Cluster_id, fcm_centers.Grade))\n",
    "    df = df.replace({'EXPECTED GRADES': grade_dict})\n",
    "\n",
    "elif(calculation_type == '4'):\n",
    "    pass\n",
    "\n",
    "else:\n",
    "    print(\"Wrong Choice entered.\")\n",
    "    "
   ]
  },
  {
   "cell_type": "code",
   "execution_count": null,
   "metadata": {},
   "outputs": [],
   "source": [
    "df.head()"
   ]
  },
  {
   "cell_type": "code",
   "execution_count": null,
   "metadata": {},
   "outputs": [],
   "source": [
    "df.to_excel('output.xlsx')"
   ]
  },
  {
   "cell_type": "code",
   "execution_count": null,
   "metadata": {},
   "outputs": [],
   "source": []
  }
 ],
 "metadata": {
  "kernelspec": {
   "display_name": "Python 3",
   "language": "python",
   "name": "python3"
  },
  "language_info": {
   "codemirror_mode": {
    "name": "ipython",
    "version": 3
   },
   "file_extension": ".py",
   "mimetype": "text/x-python",
   "name": "python",
   "nbconvert_exporter": "python",
   "pygments_lexer": "ipython3",
   "version": "3.7.3"
  }
 },
 "nbformat": 4,
 "nbformat_minor": 2
}
