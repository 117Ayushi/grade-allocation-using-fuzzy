{
 "cells": [
  {
   "cell_type": "code",
   "execution_count": 126,
   "metadata": {},
   "outputs": [],
   "source": [
    "from fcmeans import FCM\n",
    "import pandas as pd\n"
   ]
  },
  {
   "cell_type": "code",
   "execution_count": 127,
   "metadata": {},
   "outputs": [],
   "source": [
    "df = pd.read_excel(\"data.xlsx\", 0)"
   ]
  },
  {
   "cell_type": "code",
   "execution_count": 128,
   "metadata": {},
   "outputs": [],
   "source": [
    "# df = df.sort_values(by=\"Total150\",ascending=[0])"
   ]
  },
  {
   "cell_type": "code",
   "execution_count": 129,
   "metadata": {},
   "outputs": [
    {
     "data": {
      "text/html": [
       "<div>\n",
       "<style scoped>\n",
       "    .dataframe tbody tr th:only-of-type {\n",
       "        vertical-align: middle;\n",
       "    }\n",
       "\n",
       "    .dataframe tbody tr th {\n",
       "        vertical-align: top;\n",
       "    }\n",
       "\n",
       "    .dataframe thead th {\n",
       "        text-align: right;\n",
       "    }\n",
       "</style>\n",
       "<table border=\"1\" class=\"dataframe\">\n",
       "  <thead>\n",
       "    <tr style=\"text-align: right;\">\n",
       "      <th></th>\n",
       "      <th>S.No.</th>\n",
       "      <th>Roll No.</th>\n",
       "      <th>NAME</th>\n",
       "      <th>CT1 40</th>\n",
       "      <th>CT2 40</th>\n",
       "      <th>DHA/CA 40</th>\n",
       "      <th>DHA/CA 40.1</th>\n",
       "      <th>AA 20</th>\n",
       "      <th>Att 10</th>\n",
       "      <th>Total150</th>\n",
       "      <th>EXPECTED GRADES</th>\n",
       "      <th>FINAL GRADES</th>\n",
       "    </tr>\n",
       "  </thead>\n",
       "  <tbody>\n",
       "    <tr>\n",
       "      <th>0</th>\n",
       "      <td>1</td>\n",
       "      <td>1700537</td>\n",
       "      <td>a</td>\n",
       "      <td>31</td>\n",
       "      <td>A</td>\n",
       "      <td>27</td>\n",
       "      <td>30</td>\n",
       "      <td>17</td>\n",
       "      <td>0</td>\n",
       "      <td>105</td>\n",
       "      <td>NaN</td>\n",
       "      <td>NaN</td>\n",
       "    </tr>\n",
       "    <tr>\n",
       "      <th>1</th>\n",
       "      <td>2</td>\n",
       "      <td>1700543</td>\n",
       "      <td>b</td>\n",
       "      <td>32</td>\n",
       "      <td>A</td>\n",
       "      <td>32</td>\n",
       "      <td>38</td>\n",
       "      <td>18</td>\n",
       "      <td>4</td>\n",
       "      <td>124</td>\n",
       "      <td>NaN</td>\n",
       "      <td>NaN</td>\n",
       "    </tr>\n",
       "    <tr>\n",
       "      <th>2</th>\n",
       "      <td>3</td>\n",
       "      <td>1700565</td>\n",
       "      <td>c</td>\n",
       "      <td>28</td>\n",
       "      <td>A</td>\n",
       "      <td>28</td>\n",
       "      <td>30</td>\n",
       "      <td>17</td>\n",
       "      <td>2</td>\n",
       "      <td>105</td>\n",
       "      <td>NaN</td>\n",
       "      <td>NaN</td>\n",
       "    </tr>\n",
       "    <tr>\n",
       "      <th>3</th>\n",
       "      <td>4</td>\n",
       "      <td>1700532</td>\n",
       "      <td>d</td>\n",
       "      <td>28</td>\n",
       "      <td>31</td>\n",
       "      <td>17</td>\n",
       "      <td>32</td>\n",
       "      <td>15</td>\n",
       "      <td>0</td>\n",
       "      <td>106</td>\n",
       "      <td>NaN</td>\n",
       "      <td>NaN</td>\n",
       "    </tr>\n",
       "    <tr>\n",
       "      <th>4</th>\n",
       "      <td>5</td>\n",
       "      <td>1700539</td>\n",
       "      <td>e</td>\n",
       "      <td>28</td>\n",
       "      <td>27</td>\n",
       "      <td>28</td>\n",
       "      <td>30</td>\n",
       "      <td>15</td>\n",
       "      <td>10</td>\n",
       "      <td>111</td>\n",
       "      <td>NaN</td>\n",
       "      <td>NaN</td>\n",
       "    </tr>\n",
       "  </tbody>\n",
       "</table>\n",
       "</div>"
      ],
      "text/plain": [
       "   S.No.  Roll No. NAME  CT1 40 CT2 40  DHA/CA 40  DHA/CA 40.1 AA 20  Att 10  \\\n",
       "0      1   1700537    a      31      A         27           30    17       0   \n",
       "1      2   1700543    b      32      A         32           38    18       4   \n",
       "2      3   1700565    c      28      A         28           30    17       2   \n",
       "3      4   1700532    d      28     31         17           32    15       0   \n",
       "4      5   1700539    e      28     27         28           30    15      10   \n",
       "\n",
       "   Total150  EXPECTED GRADES  FINAL GRADES  \n",
       "0       105              NaN           NaN  \n",
       "1       124              NaN           NaN  \n",
       "2       105              NaN           NaN  \n",
       "3       106              NaN           NaN  \n",
       "4       111              NaN           NaN  "
      ]
     },
     "execution_count": 129,
     "metadata": {},
     "output_type": "execute_result"
    }
   ],
   "source": [
    "df.head()"
   ]
  },
  {
   "cell_type": "code",
   "execution_count": 130,
   "metadata": {},
   "outputs": [],
   "source": [
    "data2 = df[['Total150', 'Total150']]"
   ]
  },
  {
   "cell_type": "code",
   "execution_count": 131,
   "metadata": {},
   "outputs": [],
   "source": [
    "fcm = FCM(n_clusters=10)"
   ]
  },
  {
   "cell_type": "code",
   "execution_count": 132,
   "metadata": {
    "scrolled": true
   },
   "outputs": [
    {
     "data": {
      "text/plain": [
       "<fcmeans.fcm.FCM at 0x119f76a58>"
      ]
     },
     "execution_count": 132,
     "metadata": {},
     "output_type": "execute_result"
    }
   ],
   "source": [
    "fcm = FCM(n_clusters=10)\n",
    "fcm.fit(data2)"
   ]
  },
  {
   "cell_type": "code",
   "execution_count": 133,
   "metadata": {},
   "outputs": [],
   "source": [
    "fcm_centers = fcm.centers"
   ]
  },
  {
   "cell_type": "code",
   "execution_count": 134,
   "metadata": {},
   "outputs": [],
   "source": [
    "# fcm_centers.columns = [\"Total150\",\"feature\"]\n",
    "# fcm_centers\n",
    "# fcm_centers[\"Cluster_id\"] = [0,1,2,3,4,5,6,7,8,9]\n",
    "# fcm_centers = fcm_centers.sort_values(by=\"Total150\",ascending=[0])\n",
    "# fcm_centers[\"Grade\"] = [\"A\",\"A-\",\"B\",\"B-\",\"C\",\"C-\",\"D\",\"D-\",\"E\",\"F\"]\n",
    "# fcm_centers\n"
   ]
  },
  {
   "cell_type": "code",
   "execution_count": 135,
   "metadata": {},
   "outputs": [],
   "source": [
    "predicted_membership = fcm.predict(data2)\n"
   ]
  },
  {
   "cell_type": "code",
   "execution_count": 136,
   "metadata": {},
   "outputs": [
    {
     "data": {
      "text/plain": [
       "array([6, 5, 6, 6, 0, 0, 9, 2, 5, 2, 3, 8, 9, 1, 0, 8, 1, 2, 0, 7, 7, 2,\n",
       "       4, 4, 4, 1, 7, 6, 6, 6, 4, 5, 8, 4, 2, 8, 4, 2, 4, 0, 2, 7, 8, 6,\n",
       "       6, 4, 0, 5, 1, 0, 5, 4, 4])"
      ]
     },
     "execution_count": 136,
     "metadata": {},
     "output_type": "execute_result"
    }
   ],
   "source": [
    "predicted_membership"
   ]
  },
  {
   "cell_type": "code",
   "execution_count": 137,
   "metadata": {},
   "outputs": [
    {
     "data": {
      "text/html": [
       "<div>\n",
       "<style scoped>\n",
       "    .dataframe tbody tr th:only-of-type {\n",
       "        vertical-align: middle;\n",
       "    }\n",
       "\n",
       "    .dataframe tbody tr th {\n",
       "        vertical-align: top;\n",
       "    }\n",
       "\n",
       "    .dataframe thead th {\n",
       "        text-align: right;\n",
       "    }\n",
       "</style>\n",
       "<table border=\"1\" class=\"dataframe\">\n",
       "  <thead>\n",
       "    <tr style=\"text-align: right;\">\n",
       "      <th></th>\n",
       "      <th>Total150</th>\n",
       "      <th>feature</th>\n",
       "      <th>Cluster_id</th>\n",
       "      <th>Grade</th>\n",
       "    </tr>\n",
       "  </thead>\n",
       "  <tbody>\n",
       "    <tr>\n",
       "      <th>9</th>\n",
       "      <td>131.642393</td>\n",
       "      <td>131.642393</td>\n",
       "      <td>9</td>\n",
       "      <td>A</td>\n",
       "    </tr>\n",
       "    <tr>\n",
       "      <th>5</th>\n",
       "      <td>123.390026</td>\n",
       "      <td>123.390026</td>\n",
       "      <td>5</td>\n",
       "      <td>A-</td>\n",
       "    </tr>\n",
       "    <tr>\n",
       "      <th>0</th>\n",
       "      <td>114.028641</td>\n",
       "      <td>114.028641</td>\n",
       "      <td>0</td>\n",
       "      <td>B</td>\n",
       "    </tr>\n",
       "    <tr>\n",
       "      <th>6</th>\n",
       "      <td>106.420807</td>\n",
       "      <td>106.420807</td>\n",
       "      <td>6</td>\n",
       "      <td>B-</td>\n",
       "    </tr>\n",
       "    <tr>\n",
       "      <th>2</th>\n",
       "      <td>101.967369</td>\n",
       "      <td>101.967369</td>\n",
       "      <td>2</td>\n",
       "      <td>C</td>\n",
       "    </tr>\n",
       "    <tr>\n",
       "      <th>8</th>\n",
       "      <td>94.743265</td>\n",
       "      <td>94.743265</td>\n",
       "      <td>8</td>\n",
       "      <td>C-</td>\n",
       "    </tr>\n",
       "    <tr>\n",
       "      <th>1</th>\n",
       "      <td>90.345632</td>\n",
       "      <td>90.345632</td>\n",
       "      <td>1</td>\n",
       "      <td>D</td>\n",
       "    </tr>\n",
       "    <tr>\n",
       "      <th>3</th>\n",
       "      <td>82.856973</td>\n",
       "      <td>82.856973</td>\n",
       "      <td>3</td>\n",
       "      <td>D-</td>\n",
       "    </tr>\n",
       "    <tr>\n",
       "      <th>4</th>\n",
       "      <td>75.112719</td>\n",
       "      <td>75.112719</td>\n",
       "      <td>4</td>\n",
       "      <td>E</td>\n",
       "    </tr>\n",
       "    <tr>\n",
       "      <th>7</th>\n",
       "      <td>51.730450</td>\n",
       "      <td>51.730450</td>\n",
       "      <td>7</td>\n",
       "      <td>F</td>\n",
       "    </tr>\n",
       "  </tbody>\n",
       "</table>\n",
       "</div>"
      ],
      "text/plain": [
       "     Total150     feature  Cluster_id Grade\n",
       "9  131.642393  131.642393           9     A\n",
       "5  123.390026  123.390026           5    A-\n",
       "0  114.028641  114.028641           0     B\n",
       "6  106.420807  106.420807           6    B-\n",
       "2  101.967369  101.967369           2     C\n",
       "8   94.743265   94.743265           8    C-\n",
       "1   90.345632   90.345632           1     D\n",
       "3   82.856973   82.856973           3    D-\n",
       "4   75.112719   75.112719           4     E\n",
       "7   51.730450   51.730450           7     F"
      ]
     },
     "execution_count": 137,
     "metadata": {},
     "output_type": "execute_result"
    }
   ],
   "source": [
    "fcm_centers.columns = [\"Total150\",\"feature\"]\n",
    "fcm_centers\n",
    "fcm_centers[\"Cluster_id\"] = [0,1,2,3,4,5,6,7,8,9]\n",
    "fcm_centers = fcm_centers.sort_values(by=\"Total150\",ascending=[0])\n",
    "fcm_centers[\"Grade\"] = [\"A\",\"A-\",\"B\",\"B-\",\"C\",\"C-\",\"D\",\"D-\",\"E\",\"F\"]\n",
    "fcm_centers"
   ]
  },
  {
   "cell_type": "code",
   "execution_count": 141,
   "metadata": {},
   "outputs": [
    {
     "name": "stdout",
     "output_type": "stream",
     "text": [
      "{9: 'A', 5: 'A-', 0: 'B', 6: 'B-', 2: 'C', 8: 'C-', 1: 'D', 3: 'D-', 4: 'E', 7: 'F'}\n"
     ]
    }
   ],
   "source": [
    "df['EXPECTED GRADES'] = predicted_membership\n",
    "grade_dict = dict(zip(fcm_centers.Cluster_id, fcm_centers.Grade))\n",
    "print(grade_dict)"
   ]
  },
  {
   "cell_type": "code",
   "execution_count": 145,
   "metadata": {},
   "outputs": [],
   "source": [
    "df = df.replace({'EXPECTED GRADES': grade_dict}) "
   ]
  },
  {
   "cell_type": "code",
   "execution_count": 146,
   "metadata": {},
   "outputs": [
    {
     "data": {
      "text/html": [
       "<div>\n",
       "<style scoped>\n",
       "    .dataframe tbody tr th:only-of-type {\n",
       "        vertical-align: middle;\n",
       "    }\n",
       "\n",
       "    .dataframe tbody tr th {\n",
       "        vertical-align: top;\n",
       "    }\n",
       "\n",
       "    .dataframe thead th {\n",
       "        text-align: right;\n",
       "    }\n",
       "</style>\n",
       "<table border=\"1\" class=\"dataframe\">\n",
       "  <thead>\n",
       "    <tr style=\"text-align: right;\">\n",
       "      <th></th>\n",
       "      <th>S.No.</th>\n",
       "      <th>Roll No.</th>\n",
       "      <th>NAME</th>\n",
       "      <th>CT1 40</th>\n",
       "      <th>CT2 40</th>\n",
       "      <th>DHA/CA 40</th>\n",
       "      <th>DHA/CA 40.1</th>\n",
       "      <th>AA 20</th>\n",
       "      <th>Att 10</th>\n",
       "      <th>Total150</th>\n",
       "      <th>EXPECTED GRADES</th>\n",
       "      <th>FINAL GRADES</th>\n",
       "    </tr>\n",
       "  </thead>\n",
       "  <tbody>\n",
       "    <tr>\n",
       "      <th>0</th>\n",
       "      <td>1</td>\n",
       "      <td>1700537</td>\n",
       "      <td>a</td>\n",
       "      <td>31</td>\n",
       "      <td>A</td>\n",
       "      <td>27</td>\n",
       "      <td>30</td>\n",
       "      <td>17</td>\n",
       "      <td>0</td>\n",
       "      <td>105</td>\n",
       "      <td>B-</td>\n",
       "      <td>NaN</td>\n",
       "    </tr>\n",
       "    <tr>\n",
       "      <th>1</th>\n",
       "      <td>2</td>\n",
       "      <td>1700543</td>\n",
       "      <td>b</td>\n",
       "      <td>32</td>\n",
       "      <td>A</td>\n",
       "      <td>32</td>\n",
       "      <td>38</td>\n",
       "      <td>18</td>\n",
       "      <td>4</td>\n",
       "      <td>124</td>\n",
       "      <td>A-</td>\n",
       "      <td>NaN</td>\n",
       "    </tr>\n",
       "    <tr>\n",
       "      <th>2</th>\n",
       "      <td>3</td>\n",
       "      <td>1700565</td>\n",
       "      <td>c</td>\n",
       "      <td>28</td>\n",
       "      <td>A</td>\n",
       "      <td>28</td>\n",
       "      <td>30</td>\n",
       "      <td>17</td>\n",
       "      <td>2</td>\n",
       "      <td>105</td>\n",
       "      <td>B-</td>\n",
       "      <td>NaN</td>\n",
       "    </tr>\n",
       "    <tr>\n",
       "      <th>3</th>\n",
       "      <td>4</td>\n",
       "      <td>1700532</td>\n",
       "      <td>d</td>\n",
       "      <td>28</td>\n",
       "      <td>31</td>\n",
       "      <td>17</td>\n",
       "      <td>32</td>\n",
       "      <td>15</td>\n",
       "      <td>0</td>\n",
       "      <td>106</td>\n",
       "      <td>B-</td>\n",
       "      <td>NaN</td>\n",
       "    </tr>\n",
       "    <tr>\n",
       "      <th>4</th>\n",
       "      <td>5</td>\n",
       "      <td>1700539</td>\n",
       "      <td>e</td>\n",
       "      <td>28</td>\n",
       "      <td>27</td>\n",
       "      <td>28</td>\n",
       "      <td>30</td>\n",
       "      <td>15</td>\n",
       "      <td>10</td>\n",
       "      <td>111</td>\n",
       "      <td>B</td>\n",
       "      <td>NaN</td>\n",
       "    </tr>\n",
       "  </tbody>\n",
       "</table>\n",
       "</div>"
      ],
      "text/plain": [
       "   S.No.  Roll No. NAME  CT1 40 CT2 40  DHA/CA 40  DHA/CA 40.1 AA 20  Att 10  \\\n",
       "0      1   1700537    a      31      A         27           30    17       0   \n",
       "1      2   1700543    b      32      A         32           38    18       4   \n",
       "2      3   1700565    c      28      A         28           30    17       2   \n",
       "3      4   1700532    d      28     31         17           32    15       0   \n",
       "4      5   1700539    e      28     27         28           30    15      10   \n",
       "\n",
       "   Total150 EXPECTED GRADES  FINAL GRADES  \n",
       "0       105              B-           NaN  \n",
       "1       124              A-           NaN  \n",
       "2       105              B-           NaN  \n",
       "3       106              B-           NaN  \n",
       "4       111               B           NaN  "
      ]
     },
     "execution_count": 146,
     "metadata": {},
     "output_type": "execute_result"
    }
   ],
   "source": [
    "df.head()"
   ]
  },
  {
   "cell_type": "code",
   "execution_count": null,
   "metadata": {},
   "outputs": [],
   "source": []
  }
 ],
 "metadata": {
  "kernelspec": {
   "display_name": "Python 3",
   "language": "python",
   "name": "python3"
  },
  "language_info": {
   "codemirror_mode": {
    "name": "ipython",
    "version": 3
   },
   "file_extension": ".py",
   "mimetype": "text/x-python",
   "name": "python",
   "nbconvert_exporter": "python",
   "pygments_lexer": "ipython3",
   "version": "3.7.3"
  }
 },
 "nbformat": 4,
 "nbformat_minor": 2
}
